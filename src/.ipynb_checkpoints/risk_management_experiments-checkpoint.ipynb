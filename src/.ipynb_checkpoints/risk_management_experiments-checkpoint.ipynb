{
 "cells": [
  {
   "cell_type": "code",
   "execution_count": 3,
   "id": "2576684a-201f-4ca8-852f-a854ca16c5ae",
   "metadata": {},
   "outputs": [],
   "source": [
    "import cvxopt as cvx\n",
    "import numpy as np"
   ]
  },
  {
   "cell_type": "code",
   "execution_count": null,
   "id": "e54a59b5-5e47-4344-b7a6-295caa110f61",
   "metadata": {},
   "outputs": [],
   "source": [
    "def markowitz_opt(ret_vec, covar_mat, max_risk):\n",
    "    U,V = np.linalg.eig(covar_mat)\n",
    "    U[U<0] = 0\n",
    "    Usqrt = np.sqrt(U)\n",
    "    A = np.dot(np.diag(Usqrt), V.T)\n",
    "    \n",
    "    # Calculating G and h matrix\n",
    "    G1temp = np.zeros((A.shape[0]+1, A.shape[1]))\n",
    "    G1temp[1:, :] = -A\n",
    "    h1temp = np.zeros((A.shape[0]+1, 1))\n",
    "    h1temp[0] = max_risk\n",
    "    \n",
    "    ret_c = len(ret_vec)\n",
    "    for i in np.arange(ret_c):\n",
    "        ei = np.zeros((1, ret_c))\n",
    "        ei[0, i] = 1\n",
    "        if i == 0:\n",
    "            G2temp = [cvx.matrix(-ei)]\n",
    "            h2temp = [cvx.matrix(np.zeros((1,1)))]\n",
    "        else:\n",
    "            G2temp += [cvx.matrix(-ei)]\n",
    "            h2temp += [cvx.matrix(np.zeros((1,1)))]\n",
    "    \n",
    "    # Construct list of matrices\n",
    "    Ftemp = np.ones((1, ret_c))\n",
    "    F = cvx.matrix(Ftemp)\n",
    "    g = cvx.matrix(np.ones((1,1)))\n",
    "    \n",
    "    G = [cvx.matrix(G1temp)] + G2temp\n",
    "    H = [cvx.matrix(h1temp)] + h2temp\n",
    "    \n",
    "    # Solce using QCQP\n",
    "    cvx.solvers.options['show_progress'] = False\n",
    "    sol = cvx.solvers.socp(\n",
    "        -cvx.matrix(ret_vec), \n",
    "        Gq=G, hq=H, A=F, b=g)\n",
    "    xsol = np.array(sol['x'])\n",
    "    return xsol, sol['status']"
   ]
  }
 ],
 "metadata": {
  "kernelspec": {
   "display_name": "Python 3",
   "language": "python",
   "name": "python3"
  },
  "language_info": {
   "codemirror_mode": {
    "name": "ipython",
    "version": 3
   },
   "file_extension": ".py",
   "mimetype": "text/x-python",
   "name": "python",
   "nbconvert_exporter": "python",
   "pygments_lexer": "ipython3",
   "version": "3.8.8"
  }
 },
 "nbformat": 4,
 "nbformat_minor": 5
}
