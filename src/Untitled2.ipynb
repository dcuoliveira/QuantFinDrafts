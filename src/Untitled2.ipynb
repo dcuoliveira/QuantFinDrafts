{
 "cells": [
  {
   "cell_type": "code",
   "execution_count": 25,
   "id": "bd1d9393-8255-4c71-9788-457371f18344",
   "metadata": {},
   "outputs": [],
   "source": [
    "import pandas as pd\n",
    "import numpy as np\n",
    "from IPython.display import display"
   ]
  },
  {
   "cell_type": "code",
   "execution_count": 26,
   "id": "3e5f5d8d-3e90-46dc-ba6f-878577c52239",
   "metadata": {},
   "outputs": [],
   "source": [
    "def highlight_specific_word(s,\n",
    "                            word='',\n",
    "                            props=''):\n",
    "    return np.where(s == word,\n",
    "                    props,\n",
    "                    '')\n",
    "\n",
    "def style_negative(v, props=''):\n",
    "    return props if v < 0 else None\n",
    "\n",
    "def style_positive(v, props=''):\n",
    "    return props if v > 0 else None"
   ]
  },
  {
   "cell_type": "code",
   "execution_count": 27,
   "id": "725eb1c3-2099-4e3e-93f2-2c2190364da5",
   "metadata": {},
   "outputs": [],
   "source": [
    "bf_main_tb1 = pd.DataFrame([{'Modelo': 69.86, 'BBG Avg/Median': 69.5, 'Diferença': 0.36, 'Viés': 'Alta'},\n",
    "                           {'Modelo': 69.86, 'BBG Avg/Median': 70, 'Diferença': 0.36, 'Viés': 'Baixa'}])\n",
    "# bf_main_tb1 = bf_main_tb1.T.reset_index(drop=False).T.reset_index(drop=True)"
   ]
  },
  {
   "cell_type": "code",
   "execution_count": 28,
   "id": "441edb98-a1e1-4c72-8022-95de9458fd74",
   "metadata": {},
   "outputs": [
    {
     "data": {
      "text/html": [
       "<div>\n",
       "<style scoped>\n",
       "    .dataframe tbody tr th:only-of-type {\n",
       "        vertical-align: middle;\n",
       "    }\n",
       "\n",
       "    .dataframe tbody tr th {\n",
       "        vertical-align: top;\n",
       "    }\n",
       "\n",
       "    .dataframe thead th {\n",
       "        text-align: right;\n",
       "    }\n",
       "</style>\n",
       "<table border=\"1\" class=\"dataframe\">\n",
       "  <thead>\n",
       "    <tr style=\"text-align: right;\">\n",
       "      <th></th>\n",
       "      <th>Modelo</th>\n",
       "      <th>BBG Avg/Median</th>\n",
       "      <th>Diferença</th>\n",
       "      <th>Viés</th>\n",
       "    </tr>\n",
       "  </thead>\n",
       "  <tbody>\n",
       "    <tr>\n",
       "      <th>0</th>\n",
       "      <td>69.86</td>\n",
       "      <td>69.5</td>\n",
       "      <td>0.36</td>\n",
       "      <td>Alta</td>\n",
       "    </tr>\n",
       "    <tr>\n",
       "      <th>1</th>\n",
       "      <td>69.86</td>\n",
       "      <td>70.0</td>\n",
       "      <td>0.36</td>\n",
       "      <td>Baixa</td>\n",
       "    </tr>\n",
       "  </tbody>\n",
       "</table>\n",
       "</div>"
      ],
      "text/plain": [
       "   Modelo  BBG Avg/Median  Diferença   Viés\n",
       "0   69.86            69.5       0.36   Alta\n",
       "1   69.86            70.0       0.36  Baixa"
      ]
     },
     "execution_count": 28,
     "metadata": {},
     "output_type": "execute_result"
    }
   ],
   "source": [
    "bf_main_tb1"
   ]
  },
  {
   "cell_type": "code",
   "execution_count": 53,
   "id": "d6163fea-9efa-49da-9279-4f084571870e",
   "metadata": {},
   "outputs": [
    {
     "data": {
      "text/html": [
       "<style  type=\"text/css\" >\n",
       "#T_b4f73882_75a3_11ec_82e7_1e806014d652row0_col3{\n",
       "            color: white;\n",
       "            background-color: green;\n",
       "        }#T_b4f73882_75a3_11ec_82e7_1e806014d652row1_col3{\n",
       "            color: white;\n",
       "            background-color: red;\n",
       "        }</style><table id=\"T_b4f73882_75a3_11ec_82e7_1e806014d652\" ><thead>    <tr>        <th class=\"blank level0\" ></th>        <th class=\"col_heading level0 col0\" >Modelo</th>        <th class=\"col_heading level0 col1\" >BBG Avg/Median</th>        <th class=\"col_heading level0 col2\" >Diferença</th>        <th class=\"col_heading level0 col3\" >Viés</th>    </tr></thead><tbody>\n",
       "                <tr>\n",
       "                        <th id=\"T_b4f73882_75a3_11ec_82e7_1e806014d652level0_row0\" class=\"row_heading level0 row0\" >0</th>\n",
       "                        <td id=\"T_b4f73882_75a3_11ec_82e7_1e806014d652row0_col0\" class=\"data row0 col0\" >69.860000</td>\n",
       "                        <td id=\"T_b4f73882_75a3_11ec_82e7_1e806014d652row0_col1\" class=\"data row0 col1\" >69.500000</td>\n",
       "                        <td id=\"T_b4f73882_75a3_11ec_82e7_1e806014d652row0_col2\" class=\"data row0 col2\" >0.360000</td>\n",
       "                        <td id=\"T_b4f73882_75a3_11ec_82e7_1e806014d652row0_col3\" class=\"data row0 col3\" >Alta</td>\n",
       "            </tr>\n",
       "            <tr>\n",
       "                        <th id=\"T_b4f73882_75a3_11ec_82e7_1e806014d652level0_row1\" class=\"row_heading level0 row1\" >1</th>\n",
       "                        <td id=\"T_b4f73882_75a3_11ec_82e7_1e806014d652row1_col0\" class=\"data row1 col0\" >69.860000</td>\n",
       "                        <td id=\"T_b4f73882_75a3_11ec_82e7_1e806014d652row1_col1\" class=\"data row1 col1\" >70.000000</td>\n",
       "                        <td id=\"T_b4f73882_75a3_11ec_82e7_1e806014d652row1_col2\" class=\"data row1 col2\" >0.360000</td>\n",
       "                        <td id=\"T_b4f73882_75a3_11ec_82e7_1e806014d652row1_col3\" class=\"data row1 col3\" >Baixa</td>\n",
       "            </tr>\n",
       "    </tbody></table>"
      ],
      "text/plain": [
       "<pandas.io.formats.style.Styler at 0x7fbdb070c5f8>"
      ]
     },
     "execution_count": 53,
     "metadata": {},
     "output_type": "execute_result"
    }
   ],
   "source": [
    "tb1 = bf_main_tb1.style.apply(highlight_specific_word, word='Alta', props='color:white;background-color:green', axis=1).apply(highlight_specific_word, word='Baixa', props='color:white;background-color:red', axis=1)\n",
    "tb1"
   ]
  },
  {
   "cell_type": "code",
   "execution_count": 54,
   "id": "df76228f-b45f-448f-8a8b-73badc20271c",
   "metadata": {},
   "outputs": [
    {
     "data": {
      "text/html": [
       "<style  type=\"text/css\" >\n",
       "#T_bb1f66f8_75a3_11ec_b585_1e806014d652row0_col0,#T_bb1f66f8_75a3_11ec_b585_1e806014d652row0_col1,#T_bb1f66f8_75a3_11ec_b585_1e806014d652row0_col2,#T_bb1f66f8_75a3_11ec_b585_1e806014d652row1_col0,#T_bb1f66f8_75a3_11ec_b585_1e806014d652row1_col1,#T_bb1f66f8_75a3_11ec_b585_1e806014d652row1_col2{\n",
       "            text-align:  right;\n",
       "        }#T_bb1f66f8_75a3_11ec_b585_1e806014d652row0_col3{\n",
       "            color: white;\n",
       "            background-color: green;\n",
       "            color: white;\n",
       "            background-color: green;\n",
       "            text-align:  right;\n",
       "        }#T_bb1f66f8_75a3_11ec_b585_1e806014d652row1_col3{\n",
       "            color: white;\n",
       "            background-color: red;\n",
       "            color: white;\n",
       "            background-color: red;\n",
       "            text-align:  right;\n",
       "        }</style><table id=\"T_bb1f66f8_75a3_11ec_b585_1e806014d652\" ><thead>    <tr>        <th class=\"blank level0\" ></th>        <th class=\"col_heading level0 col0\" >Modelo</th>        <th class=\"col_heading level0 col1\" >BBG Avg/Median</th>        <th class=\"col_heading level0 col2\" >Diferença</th>        <th class=\"col_heading level0 col3\" >Viés</th>    </tr></thead><tbody>\n",
       "                <tr>\n",
       "                        <th id=\"T_bb1f66f8_75a3_11ec_b585_1e806014d652level0_row0\" class=\"row_heading level0 row0\" >0</th>\n",
       "                        <td id=\"T_bb1f66f8_75a3_11ec_b585_1e806014d652row0_col0\" class=\"data row0 col0\" >69.860000</td>\n",
       "                        <td id=\"T_bb1f66f8_75a3_11ec_b585_1e806014d652row0_col1\" class=\"data row0 col1\" >69.500000</td>\n",
       "                        <td id=\"T_bb1f66f8_75a3_11ec_b585_1e806014d652row0_col2\" class=\"data row0 col2\" >0.360000</td>\n",
       "                        <td id=\"T_bb1f66f8_75a3_11ec_b585_1e806014d652row0_col3\" class=\"data row0 col3\" >Alta</td>\n",
       "            </tr>\n",
       "            <tr>\n",
       "                        <th id=\"T_bb1f66f8_75a3_11ec_b585_1e806014d652level0_row1\" class=\"row_heading level0 row1\" >1</th>\n",
       "                        <td id=\"T_bb1f66f8_75a3_11ec_b585_1e806014d652row1_col0\" class=\"data row1 col0\" >69.860000</td>\n",
       "                        <td id=\"T_bb1f66f8_75a3_11ec_b585_1e806014d652row1_col1\" class=\"data row1 col1\" >70.000000</td>\n",
       "                        <td id=\"T_bb1f66f8_75a3_11ec_b585_1e806014d652row1_col2\" class=\"data row1 col2\" >0.360000</td>\n",
       "                        <td id=\"T_bb1f66f8_75a3_11ec_b585_1e806014d652row1_col3\" class=\"data row1 col3\" >Baixa</td>\n",
       "            </tr>\n",
       "    </tbody></table>"
      ],
      "text/plain": [
       "<pandas.io.formats.style.Styler at 0x7fbdb070c5f8>"
      ]
     },
     "execution_count": 54,
     "metadata": {},
     "output_type": "execute_result"
    }
   ],
   "source": [
    "tb1 = tb1.set_properties(**{'text-align': 'right'})\n",
    "tb1"
   ]
  },
  {
   "cell_type": "code",
   "execution_count": null,
   "id": "3ed76810-c015-4452-8df0-2785432d2b78",
   "metadata": {},
   "outputs": [],
   "source": []
  },
  {
   "cell_type": "code",
   "execution_count": 15,
   "id": "d584a3b5-be47-4560-81e2-d44ef01aec1b",
   "metadata": {},
   "outputs": [
    {
     "data": {
      "text/html": [
       "<div>\n",
       "<style scoped>\n",
       "    .dataframe tbody tr th:only-of-type {\n",
       "        vertical-align: middle;\n",
       "    }\n",
       "\n",
       "    .dataframe tbody tr th {\n",
       "        vertical-align: top;\n",
       "    }\n",
       "\n",
       "    .dataframe thead th {\n",
       "        text-align: right;\n",
       "    }\n",
       "</style>\n",
       "<table border=\"1\" class=\"dataframe\">\n",
       "  <thead>\n",
       "    <tr style=\"text-align: right;\">\n",
       "      <th></th>\n",
       "      <th>Modelo</th>\n",
       "      <th>BBG Avg/Median</th>\n",
       "      <th>Diferença</th>\n",
       "      <th>Viés</th>\n",
       "    </tr>\n",
       "  </thead>\n",
       "  <tbody>\n",
       "    <tr>\n",
       "      <th>0</th>\n",
       "      <td>69.86</td>\n",
       "      <td>69.5</td>\n",
       "      <td>0.36</td>\n",
       "      <td>Alta</td>\n",
       "    </tr>\n",
       "    <tr>\n",
       "      <th>1</th>\n",
       "      <td>69.86</td>\n",
       "      <td>70.0</td>\n",
       "      <td>0.36</td>\n",
       "      <td>Baixa</td>\n",
       "    </tr>\n",
       "  </tbody>\n",
       "</table>\n",
       "</div>"
      ],
      "text/plain": [
       "   Modelo  BBG Avg/Median  Diferença   Viés\n",
       "0   69.86            69.5       0.36   Alta\n",
       "1   69.86            70.0       0.36  Baixa"
      ]
     },
     "metadata": {},
     "output_type": "display_data"
    }
   ],
   "source": [
    "display(bf_main_tb1)"
   ]
  },
  {
   "cell_type": "code",
   "execution_count": null,
   "id": "f5a98006-baa7-43ea-b6e5-070e30058735",
   "metadata": {},
   "outputs": [],
   "source": []
  }
 ],
 "metadata": {
  "kernelspec": {
   "display_name": "Python 3",
   "language": "python",
   "name": "python3"
  },
  "language_info": {
   "codemirror_mode": {
    "name": "ipython",
    "version": 3
   },
   "file_extension": ".py",
   "mimetype": "text/x-python",
   "name": "python",
   "nbconvert_exporter": "python",
   "pygments_lexer": "ipython3",
   "version": "3.6.10"
  }
 },
 "nbformat": 4,
 "nbformat_minor": 5
}
