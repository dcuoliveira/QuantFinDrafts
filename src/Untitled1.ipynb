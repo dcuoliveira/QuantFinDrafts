{
 "cells": [
  {
   "cell_type": "code",
   "execution_count": 6,
   "id": "e763715a-f0a2-4ad7-88dc-b4b1a1341381",
   "metadata": {},
   "outputs": [],
   "source": [
    "import pandas as pd\n",
    "import numpy as np\n",
    "import statsmodels.api as sm\n",
    "import os\n",
    "from sklearn.model_selection import TimeSeriesSplit\n",
    "from tqdm import tqdm"
   ]
  },
  {
   "cell_type": "code",
   "execution_count": 4,
   "id": "d6489fef-54fe-4dc2-95d5-3fc7845272bf",
   "metadata": {},
   "outputs": [
    {
     "data": {
      "text/html": [
       "<div>\n",
       "<style scoped>\n",
       "    .dataframe tbody tr th:only-of-type {\n",
       "        vertical-align: middle;\n",
       "    }\n",
       "\n",
       "    .dataframe tbody tr th {\n",
       "        vertical-align: top;\n",
       "    }\n",
       "\n",
       "    .dataframe thead th {\n",
       "        text-align: right;\n",
       "    }\n",
       "</style>\n",
       "<table border=\"1\" class=\"dataframe\">\n",
       "  <thead>\n",
       "    <tr style=\"text-align: right;\">\n",
       "      <th></th>\n",
       "      <th>ibov</th>\n",
       "      <th>petr4</th>\n",
       "      <th>abev3</th>\n",
       "      <th>di</th>\n",
       "    </tr>\n",
       "    <tr>\n",
       "      <th>date</th>\n",
       "      <th></th>\n",
       "      <th></th>\n",
       "      <th></th>\n",
       "      <th></th>\n",
       "    </tr>\n",
       "  </thead>\n",
       "  <tbody>\n",
       "    <tr>\n",
       "      <th>2020-10-05</th>\n",
       "      <td>96089.0</td>\n",
       "      <td>20.03</td>\n",
       "      <td>12.81</td>\n",
       "      <td>1.9</td>\n",
       "    </tr>\n",
       "    <tr>\n",
       "      <th>2020-10-06</th>\n",
       "      <td>95615.0</td>\n",
       "      <td>19.93</td>\n",
       "      <td>13.34</td>\n",
       "      <td>1.9</td>\n",
       "    </tr>\n",
       "    <tr>\n",
       "      <th>2020-10-07</th>\n",
       "      <td>95526.0</td>\n",
       "      <td>19.79</td>\n",
       "      <td>13.53</td>\n",
       "      <td>1.9</td>\n",
       "    </tr>\n",
       "    <tr>\n",
       "      <th>2020-10-08</th>\n",
       "      <td>97920.0</td>\n",
       "      <td>20.44</td>\n",
       "      <td>13.68</td>\n",
       "      <td>1.9</td>\n",
       "    </tr>\n",
       "    <tr>\n",
       "      <th>2020-10-09</th>\n",
       "      <td>97483.0</td>\n",
       "      <td>19.80</td>\n",
       "      <td>13.57</td>\n",
       "      <td>1.9</td>\n",
       "    </tr>\n",
       "  </tbody>\n",
       "</table>\n",
       "</div>"
      ],
      "text/plain": [
       "               ibov  petr4  abev3   di\n",
       "date                                  \n",
       "2020-10-05  96089.0  20.03  12.81  1.9\n",
       "2020-10-06  95615.0  19.93  13.34  1.9\n",
       "2020-10-07  95526.0  19.79  13.53  1.9\n",
       "2020-10-08  97920.0  20.44  13.68  1.9\n",
       "2020-10-09  97483.0  19.80  13.57  1.9"
      ]
     },
     "execution_count": 4,
     "metadata": {},
     "output_type": "execute_result"
    }
   ],
   "source": [
    "current_dir = os.getcwd()\n",
    "\n",
    "stocks = pd.read_csv(os.path.join(current_dir, \"data\", \"ibov_petr_abev_di.csv\"), sep=\";\")\n",
    "stocks[\"date\"] = pd.to_datetime(stocks[\"date\"], format=\"%d/%m/%Y\")\n",
    "stocks = stocks.set_index(\"date\")\n",
    "stocks.tail()"
   ]
  },
  {
   "cell_type": "code",
   "execution_count": 13,
   "id": "a0211cbf-ae35-4f6b-8064-f5d7f7af8a9c",
   "metadata": {},
   "outputs": [
    {
     "name": "stderr",
     "output_type": "stream",
     "text": [
      "100%|██████████| 3/3 [00:00<00:00, 301.32it/s]\n"
     ]
    }
   ],
   "source": [
    "n_splits = 3\n",
    "\n",
    "X_features = stocks[[\"petr4\", \"abev3\", \"di\"]]\n",
    "Y_feature = stocks[[\"ibov\"]]\n",
    "\n",
    "tss = TimeSeriesSplit(n_splits = n_splits)\n",
    "\n",
    "i = 1\n",
    "dict_idx = {}\n",
    "for train_index, test_index in tqdm(tss.split(X_features),\n",
    "                                    total=n_splits):\n",
    "    X_train, X_test = X_features.iloc[train_index, :], X_features.iloc[test_index,:]\n",
    "    y_train, y_test = Y_feature.iloc[train_index], Y_feature.iloc[test_index]\n",
    "    \n",
    "    dict_idx[\"split\" + str(i)] = {\"train_idx\": train_index, \"test_idx\": test_index}\n",
    "    i += 1"
   ]
  },
  {
   "cell_type": "code",
   "execution_count": 14,
   "id": "7eabb728-73b9-43e0-81d3-e222a7c8aa11",
   "metadata": {},
   "outputs": [
    {
     "data": {
      "text/plain": [
       "dict_keys(['split1', 'split2', 'split3'])"
      ]
     },
     "execution_count": 14,
     "metadata": {},
     "output_type": "execute_result"
    }
   ],
   "source": [
    "dict_idx.keys()"
   ]
  },
  {
   "cell_type": "code",
   "execution_count": 17,
   "id": "2af62576-b25f-4c6f-8ec0-bf7d37d942d6",
   "metadata": {},
   "outputs": [
    {
     "data": {
      "text/plain": [
       "dict_keys(['train_idx', 'test_idx'])"
      ]
     },
     "execution_count": 17,
     "metadata": {},
     "output_type": "execute_result"
    }
   ],
   "source": [
    "dict_idx[\"split1\"].keys()"
   ]
  },
  {
   "cell_type": "code",
   "execution_count": null,
   "id": "6ace8b7c-426d-42f6-90a4-aa959f4555d3",
   "metadata": {},
   "outputs": [],
   "source": []
  }
 ],
 "metadata": {
  "kernelspec": {
   "display_name": "Python 3",
   "language": "python",
   "name": "python3"
  },
  "language_info": {
   "codemirror_mode": {
    "name": "ipython",
    "version": 3
   },
   "file_extension": ".py",
   "mimetype": "text/x-python",
   "name": "python",
   "nbconvert_exporter": "python",
   "pygments_lexer": "ipython3",
   "version": "3.6.10"
  }
 },
 "nbformat": 4,
 "nbformat_minor": 5
}
